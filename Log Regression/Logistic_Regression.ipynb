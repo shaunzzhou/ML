{
 "cells": [
  {
   "cell_type": "markdown",
   "metadata": {},
   "source": [
    "# Logistic Regression"
   ]
  },
  {
   "cell_type": "markdown",
   "metadata": {},
   "source": [
    "In this lab, we will look at another classification algorithm, namely Logistic Regression.  We look at how we can motivate classification from the linear regression setting, formulate the problem as a Maximum Likelihood Estimation.  We then learn how to use sklearn for Logistic Regression, one hot encoding, and regularization."
   ]
  },
  {
   "cell_type": "code",
   "execution_count": 1,
   "metadata": {
    "ExecuteTime": {
     "end_time": "2024-03-01T07:52:46.524772Z",
     "start_time": "2024-03-01T07:52:44.287878Z"
    }
   },
   "outputs": [],
   "source": [
    "import numpy as np\n",
    "import pandas as pd\n",
    "import matplotlib.pyplot as plt\n",
    "from sklearn.linear_model import LinearRegression, LogisticRegression"
   ]
  },
  {
   "cell_type": "markdown",
   "metadata": {},
   "source": [
    "#### From Linear Regression to Logistic Regression"
   ]
  },
  {
   "cell_type": "markdown",
   "metadata": {},
   "source": [
    "Consider a simple one-dimensional example to predict value of $y$ based on feature $x$, where $y \\in \\{-1,+1\\}$, and $x \\in \\mathbb{R}$."
   ]
  },
  {
   "cell_type": "code",
   "execution_count": 2,
   "metadata": {
    "ExecuteTime": {
     "end_time": "2024-03-01T07:52:46.543352Z",
     "start_time": "2024-03-01T07:52:46.528782Z"
    }
   },
   "outputs": [],
   "source": [
    "data = pd.read_csv(\"data_log_reg.csv\")\n",
    "X = pd.DataFrame(data.x)\n",
    "y = pd.DataFrame(data.y)"
   ]
  },
  {
   "cell_type": "code",
   "execution_count": 3,
   "metadata": {
    "ExecuteTime": {
     "end_time": "2024-03-01T07:52:46.560711Z",
     "start_time": "2024-03-01T07:52:46.545393Z"
    }
   },
   "outputs": [
    {
     "data": {
      "text/html": [
       "<div>\n",
       "<style scoped>\n",
       "    .dataframe tbody tr th:only-of-type {\n",
       "        vertical-align: middle;\n",
       "    }\n",
       "\n",
       "    .dataframe tbody tr th {\n",
       "        vertical-align: top;\n",
       "    }\n",
       "\n",
       "    .dataframe thead th {\n",
       "        text-align: right;\n",
       "    }\n",
       "</style>\n",
       "<table border=\"1\" class=\"dataframe\">\n",
       "  <thead>\n",
       "    <tr style=\"text-align: right;\">\n",
       "      <th></th>\n",
       "      <th>x</th>\n",
       "    </tr>\n",
       "  </thead>\n",
       "  <tbody>\n",
       "    <tr>\n",
       "      <th>0</th>\n",
       "      <td>-2.000000</td>\n",
       "    </tr>\n",
       "    <tr>\n",
       "      <th>1</th>\n",
       "      <td>-1.890089</td>\n",
       "    </tr>\n",
       "    <tr>\n",
       "      <th>2</th>\n",
       "      <td>-1.801019</td>\n",
       "    </tr>\n",
       "    <tr>\n",
       "      <th>3</th>\n",
       "      <td>-1.622105</td>\n",
       "    </tr>\n",
       "    <tr>\n",
       "      <th>4</th>\n",
       "      <td>-1.278516</td>\n",
       "    </tr>\n",
       "  </tbody>\n",
       "</table>\n",
       "</div>"
      ],
      "text/plain": [
       "          x\n",
       "0 -2.000000\n",
       "1 -1.890089\n",
       "2 -1.801019\n",
       "3 -1.622105\n",
       "4 -1.278516"
      ]
     },
     "execution_count": 3,
     "metadata": {},
     "output_type": "execute_result"
    }
   ],
   "source": [
    "X.head()"
   ]
  },
  {
   "cell_type": "code",
   "execution_count": 4,
   "metadata": {
    "ExecuteTime": {
     "end_time": "2024-03-01T07:52:46.786859Z",
     "start_time": "2024-03-01T07:52:46.564229Z"
    }
   },
   "outputs": [
    {
     "data": {
      "text/plain": [
       "<matplotlib.collections.PathCollection at 0x7fe47e7ebfa0>"
      ]
     },
     "execution_count": 4,
     "metadata": {},
     "output_type": "execute_result"
    },
    {
     "data": {
      "image/png": "[encoded data removed]",
      "text/plain": [
       "<Figure size 432x288 with 1 Axes>"
      ]
     },
     "metadata": {
      "needs_background": "light"
     },
     "output_type": "display_data"
    }
   ],
   "source": [
    "plt.scatter(X,y)"
   ]
  },
  {
   "cell_type": "code",
   "execution_count": 5,
   "metadata": {
    "ExecuteTime": {
     "end_time": "2024-03-01T07:52:48.978608Z",
     "start_time": "2024-03-01T07:52:46.789312Z"
    },
    "scrolled": false
   },
   "outputs": [
    {
     "name": "stdout",
     "output_type": "stream",
     "text": [
      "[-1]\n",
      "[1]\n"
     ]
    },
    {
     "data": {
      "image/png": "[encoded data removed]",
      "text/plain": [
       "<Figure size 432x288 with 1 Axes>"
      ]
     },
     "metadata": {
      "needs_background": "light"
     },
     "output_type": "display_data"
    }
   ],
   "source": [
    "from sklearn.model_selection import train_test_split\n",
    "from sklearn.metrics import accuracy_score\n",
    "from sklearn.linear_model import LinearRegression, LogisticRegression\n",
    "from sklearn.naive_bayes import GaussianNB\n",
    "\n",
    "data = pd.read_csv(\"data_log_reg.csv\")\n",
    "\n",
    "X = data[[\"x\"]]\n",
    "y = data.y\n",
    "\n",
    "plt.scatter(X,y)\n",
    "\n",
    "log_reg = LogisticRegression(solver='lbfgs', max_iter=1000)\n",
    "log_reg.fit(X, y)\n",
    "\n",
    "clf = GaussianNB()\n",
    "clf.fit(X, y)\n",
    "\n",
    "print(clf.predict(pd.DataFrame([1.6])))\n",
    "print(log_reg.predict(pd.DataFrame([1.6])))"
   ]
  },
  {
   "cell_type": "markdown",
   "metadata": {},
   "source": [
    "We have so far learnt two approaches to do this. <br>\n",
    "\n",
    "The first is the Gaussian Naive Bayes model.  In this model, whenever we are given a new instance $x$, we calculate the quantity $P(y=1|x)$ and $P(y=-1|x)$, and returns the class where the probability is higher.  As an intermediate step that we need to calculate the joint probability of $P(y,x)$.  Note that it is *naive* in the sense that there is a conditional independence among the features"
   ]
  },
  {
   "cell_type": "markdown",
   "metadata": {},
   "source": [
    "The second approach is Support Vector Machine.  In this model, we draw a *decision boundary* and then whenever we are given a new instance $x$ we check on which side of the boundary this $x$ lies, and then determine the class.  Note in SVM we do not tie any probability values at all.  The output from the decision function only gives us the class but we cannot discuss any probability  "
   ]
  },
  {
   "cell_type": "markdown",
   "metadata": {},
   "source": [
    "Our third approach Logistic Regression draws a decision boundary directly on $P(y|x)$.  Note that this gives us a probability interpretation.  Furthermore, there is no implicity assumption in independence among the features.  Both of these make Logistic Regression a popular starting point for classification problem"
   ]
  },
  {
   "cell_type": "markdown",
   "metadata": {},
   "source": [
    "For a start, lets try a linear regression on the data points above."
   ]
  },
  {
   "cell_type": "code",
   "execution_count": 6,
   "metadata": {
    "ExecuteTime": {
     "end_time": "2024-03-01T07:52:49.126480Z",
     "start_time": "2024-03-01T07:52:48.980687Z"
    }
   },
   "outputs": [
    {
     "data": {
      "text/plain": [
       "<matplotlib.collections.PathCollection at 0x7fe47eb16c70>"
      ]
     },
     "execution_count": 6,
     "metadata": {},
     "output_type": "execute_result"
    },
    {
     "data": {
      "image/png": "[encoded data removed]",
      "text/plain": [
       "<Figure size 432x288 with 1 Axes>"
      ]
     },
     "metadata": {
      "needs_background": "light"
     },
     "output_type": "display_data"
    }
   ],
   "source": [
    "linear_reg = LinearRegression()\n",
    "linear_reg.fit(X,y)\n",
    "\n",
    "w = linear_reg.coef_[0]\n",
    "b = linear_reg.intercept_\n",
    "\n",
    "xs = np.array([-2,2])\n",
    "ys = w*xs + b\n",
    "plt.plot(xs, ys)\n",
    "\n",
    "plt.scatter(X,y)"
   ]
  },
  {
   "cell_type": "markdown",
   "metadata": {},
   "source": [
    "First, notice that it does not fit well.  Secondly, and more importantly, the predicted values are continuous over all possible values, i.e. any value is possible.  This is not helpful since we are seeking a *probability* function which means the predicted values $y$ must *squeeze* between $0$ and $1$.  This is where the logistic function comes into place.  The function maps any real value to one which is in range $(0,1)$.  This is how it looks like"
   ]
  },
  {
   "cell_type": "code",
   "execution_count": 7,
   "metadata": {
    "ExecuteTime": {
     "end_time": "2024-03-01T07:52:49.267011Z",
     "start_time": "2024-03-01T07:52:49.128273Z"
    }
   },
   "outputs": [
    {
     "data": {
      "text/plain": [
       "[<matplotlib.lines.Line2D at 0x7fe47eb70190>]"
      ]
     },
     "execution_count": 7,
     "metadata": {},
     "output_type": "execute_result"
    },
    {
     "data": {
      "image/png": "[encoded data removed]",
      "text/plain": [
       "<Figure size 432x288 with 1 Axes>"
      ]
     },
     "metadata": {
      "needs_background": "light"
     },
     "output_type": "display_data"
    }
   ],
   "source": [
    "xs = np.arange(-10,10,0.1)\n",
    "ys = 1/(1+np.exp(-1.*xs))\n",
    "plt.plot(xs, ys)"
   ]
  },
  {
   "cell_type": "markdown",
   "metadata": {},
   "source": [
    "#### Formulating Logistic Regression"
   ]
  },
  {
   "cell_type": "markdown",
   "metadata": {},
   "source": [
    "In other words, in Logistic Regression we are interested in function $Pr(y=1|x)$.  In one-dimension, it takes the form"
   ]
  },
  {
   "cell_type": "markdown",
   "metadata": {},
   "source": [
    "$$\n",
    "Pr(y=1 | x) = \\frac{1}{1+e^{-(wx+b)}} \\tag{1}\n",
    "$$"
   ]
  },
  {
   "cell_type": "markdown",
   "metadata": {},
   "source": [
    "$$\n",
    "Pr(y=-1 | x) = \\frac{1}{1+e^{(wx+b)}} \\tag{2}\n",
    "$$"
   ]
  },
  {
   "cell_type": "markdown",
   "metadata": {},
   "source": [
    "where $w$ and $b$ are values we will estimate via our training data."
   ]
  },
  {
   "cell_type": "markdown",
   "metadata": {},
   "source": [
    "Say we have the following three samples"
   ]
  },
  {
   "cell_type": "markdown",
   "metadata": {},
   "source": [
    "$$\n",
    "x_1 = 0.8, y_1=1 \\\\\n",
    "x_2 = -1.0, y_2=-1 \\\\\n",
    "x_3 = 1.2, y_3=1\n",
    "$$"
   ]
  },
  {
   "cell_type": "markdown",
   "metadata": {},
   "source": [
    "What is the probability you get the $y$ given $x$?  This is called the likelihood and is given by"
   ]
  },
  {
   "cell_type": "markdown",
   "metadata": {},
   "source": [
    "$$\n",
    "\\mathscr{L} = Pr(y=1|x_1=0.8) \\times Pr(y=-1|x_2=-1) \\times Pr(y=1|x_3=1.2)\n",
    "$$"
   ]
  },
  {
   "cell_type": "markdown",
   "metadata": {},
   "source": [
    "Assuming the functional form (1), we then can express likelihood"
   ]
  },
  {
   "cell_type": "markdown",
   "metadata": {},
   "source": [
    "$$\n",
    "\\mathscr{L} = \\frac{1}{1+e^{-(0.8w+b)}} \\frac{1}{1+e^{(-w+b)}} \\frac{1}{1+e^{-(1.2w+b)}} \\tag{3}\n",
    "$$"
   ]
  },
  {
   "cell_type": "markdown",
   "metadata": {},
   "source": [
    "Note here in the second term we have to calculate $Pr(y=-1|x)$ and this is given by"
   ]
  },
  {
   "cell_type": "markdown",
   "metadata": {},
   "source": [
    "$$\n",
    "Pr(y=-1 | x) = 1 -\\frac{1}{1+e^{-(wx+b)}} = \\frac{e^{-(wx+b)}}{1+e^{-(wx+b)}} = \\frac{1}{1+e^{(wx+b)}}\n",
    "$$"
   ]
  },
  {
   "cell_type": "markdown",
   "metadata": {},
   "source": [
    "Taking log of (3), we have "
   ]
  },
  {
   "cell_type": "markdown",
   "metadata": {},
   "source": [
    "$$\n",
    "\\ln \\mathscr{L} = \\ln \\frac{1}{1+e^{-(0.8w+b)}} + \\ln \\frac{1}{1+e^{(-w+b)}} + \\ln \\frac{1}{1+e^{-(1.2w+b)}}\n",
    "$$"
   ]
  },
  {
   "cell_type": "markdown",
   "metadata": {},
   "source": [
    "Our objective is to find the values of $w$ and $b$ that give rise to the maximum log-likelihood,  $\\ln \\mathscr{L}$.  Or equivalently we want to solve the following minimization problem"
   ]
  },
  {
   "cell_type": "markdown",
   "metadata": {},
   "source": [
    "$$\n",
    "\\min_{w,b} \\ln (1+e^{-(0.8w+b)}) \\ln (1+e^{(-w+b)}) \\ln (1+e^{-(1.2w+b)}) \n",
    "$$"
   ]
  },
  {
   "cell_type": "markdown",
   "metadata": {},
   "source": [
    "There is no exact solution to this problem.  However as it is a convex function, one can solve it numerically using Gradient Descent. <br>\n",
    "\n",
    "To generalize and summarize, in Logistic Regression, what we want is to find is the probability of a class, either $+1$ or $-1$ given the feature vector $\\vec{x}$, i.e."
   ]
  },
  {
   "cell_type": "markdown",
   "metadata": {},
   "source": [
    "$$\n",
    "Pr(y|\\vec{x}) = \\frac{1}{1+e^{-y(\\vec{w}^\\top \\vec{x})}}\n",
    "$$"
   ]
  },
  {
   "cell_type": "markdown",
   "metadata": {},
   "source": [
    "To find the maximum likelihood estimator $\\vec{w}$, we solve the following"
   ]
  },
  {
   "cell_type": "markdown",
   "metadata": {},
   "source": [
    "$$\n",
    "\\min_{\\vec{w}} \\sum_{i=1}^{n} \\ln ( 1+\\exp  ( -y_i\\vec{w}^\\top \\vec{x_i} ))\n",
    "$$"
   ]
  },
  {
   "cell_type": "markdown",
   "metadata": {},
   "source": [
    "#### Using sklearn for Logistic Regression"
   ]
  },
  {
   "cell_type": "markdown",
   "metadata": {},
   "source": [
    "We use the iris dataset to demonstrate the use of sklearn.  Note however in this case we have a multi-class classification problem"
   ]
  },
  {
   "cell_type": "code",
   "execution_count": 8,
   "metadata": {
    "ExecuteTime": {
     "end_time": "2024-03-01T07:52:49.303998Z",
     "start_time": "2024-03-01T07:52:49.268796Z"
    }
   },
   "outputs": [
    {
     "data": {
      "text/plain": [
       "0.96667"
      ]
     },
     "execution_count": 8,
     "metadata": {},
     "output_type": "execute_result"
    }
   ],
   "source": [
    "from sklearn.model_selection import train_test_split\n",
    "from sklearn.metrics import accuracy_score\n",
    "\n",
    "data = pd.read_csv(\"iris.csv\")\n",
    "\n",
    "X = data.drop(columns=[\"variety\"])\n",
    "y = data.variety\n",
    "\n",
    "X_train, X_test, y_train, y_test = train_test_split(X, y, test_size=0.2, random_state=42)\n",
    "\n",
    "\n",
    "log_reg = LogisticRegression(solver='lbfgs', multi_class='multinomial', max_iter=1000)\n",
    "log_reg.fit(X_train, y_train)\n",
    "\n",
    "y_pred = log_reg.predict(X_test)\n",
    "round(accuracy_score(y_pred, y_test), 5)"
   ]
  },
  {
   "cell_type": "markdown",
   "metadata": {},
   "source": [
    "#### Exercse 1: One hot encoding <br>\n",
    "\n",
    "In this exercise you will predict the whether a person earns >50k or <=50k using census data.  You will read the *census.csv* data build a Logistic Regression model out of it.  Note that in some columns you only have categorical values.  You will first need to create dummy variables out of the categories"
   ]
  },
  {
   "cell_type": "code",
   "execution_count": 39,
   "metadata": {
    "ExecuteTime": {
     "end_time": "2024-03-01T08:05:11.175649Z",
     "start_time": "2024-03-01T08:05:10.999889Z"
    },
    "scrolled": false
   },
   "outputs": [
    {
     "name": "stdout",
     "output_type": "stream",
     "text": [
      "       age  sex_ Male  Target_y_ >50K\n",
      "0       39          1               0\n",
      "1       50          1               0\n",
      "2       38          1               0\n",
      "3       53          1               0\n",
      "4       37          0               0\n",
      "...    ...        ...             ...\n",
      "27506   27          0               0\n",
      "27507   40          1               1\n",
      "27508   58          0               0\n",
      "27509   22          1               0\n",
      "27510   52          0               1\n",
      "\n",
      "[27511 rows x 3 columns]\n",
      "\n",
      "accuracy:\n",
      "0.730147192440487\n",
      "\n",
      "report:\n",
      "              precision    recall  f1-score   support\n",
      "\n",
      "           0       0.75      0.95      0.84      4111\n",
      "           1       0.34      0.07      0.12      1392\n",
      "\n",
      "    accuracy                           0.73      5503\n",
      "   macro avg       0.55      0.51      0.48      5503\n",
      "weighted avg       0.65      0.73      0.66      5503\n",
      "\n"
     ]
    }
   ],
   "source": [
    "import pandas as pd\n",
    "from sklearn.model_selection import train_test_split\n",
    "from sklearn.linear_model import LogisticRegression\n",
    "from sklearn.metrics import accuracy_score, classification_report\n",
    "from sklearn.preprocessing import OneHotEncoder\n",
    "\n",
    "\n",
    "# Convert the sample data into a DataFrame\n",
    "df = pd.read_csv(\"census.csv\")\n",
    "\n",
    "# Convert categorical variables into dummy/indicator variables\n",
    "df_dummies = pd.get_dummies(df, drop_first=True)\n",
    "\n",
    "print (df_dummies)\n",
    "\n",
    "# Split the data into features (X) and target (y)\n",
    "X = df_dummies.drop('Target_y_ >50K', axis=1)\n",
    "y = df_dummies['Target_y_ >50K']\n",
    "\n",
    "# Split the dataset into training and testing sets\n",
    "X_train, X_test, y_train, y_test = train_test_split(X, y, test_size=0.2, random_state=42)\n",
    "\n",
    "# Initialize and train a Logistic Regression model\n",
    "model = LogisticRegression(solver='lbfgs', multi_class='multinomial', max_iter=1000)\n",
    "model.fit(X_train, y_train)\n",
    "\n",
    "# Make predictions and evaluate the model\n",
    "y_pred = model.predict(X_test)\n",
    "accuracy = accuracy_score(y_test, y_pred)\n",
    "report = classification_report(y_test, y_pred)\n",
    "\n",
    "print (f\"\\naccuracy:\\n{accuracy}\")\n",
    "print (f\"\\nreport:\\n{report}\")"
   ]
  },
  {
   "cell_type": "markdown",
   "metadata": {},
   "source": [
    "#### Exercse 2: Regularization <br>\n",
    "\n",
    "In this exercise you will continue from Exercise 1 by trying different values for $C$ and norm.  The norm should be either \"l1\" or \"l2\".  Report the best combination"
   ]
  },
  {
   "cell_type": "code",
   "execution_count": 42,
   "metadata": {
    "ExecuteTime": {
     "end_time": "2024-03-01T08:08:10.479496Z",
     "start_time": "2024-03-01T08:08:09.001805Z"
    }
   },
   "outputs": [
    {
     "name": "stdout",
     "output_type": "stream",
     "text": [
      "best_params: {'C': 0.01, 'penalty': 'l2'}\n",
      "best_score: 0.7423663677279574\n"
     ]
    }
   ],
   "source": [
    "from sklearn.model_selection import GridSearchCV\n",
    "from sklearn.linear_model import LogisticRegressionCV\n",
    "\n",
    "# Define the parameter grid: C values and penalty types\n",
    "param_grid = {\n",
    "    'C': [0.01, 0.1, 1, 10, 100],\n",
    "    'penalty': ['l1', 'l2']\n",
    "}\n",
    "\n",
    "# Initialize a Logistic Regression model\n",
    "# Note: 'liblinear' solver is used as it supports both l1 and l2 penalties\n",
    "model = LogisticRegression(solver='liblinear')\n",
    "\n",
    "# Initialize the GridSearchCV object with cross-validation\n",
    "grid_search = GridSearchCV(model, param_grid, cv=5, scoring='accuracy')\n",
    "\n",
    "# Perform the grid search over the training data\n",
    "grid_search.fit(X_train, y_train)\n",
    "\n",
    "# Extract the best parameters and the best score\n",
    "best_params = grid_search.best_params_\n",
    "best_score = grid_search.best_score_\n",
    "\n",
    "print (f\"best_params: {best_params}\")\n",
    "print (f\"best_score: {best_score}\")\n"
   ]
  }
 ],
 "metadata": {
  "kernelspec": {
   "display_name": "Python 3 (ipykernel)",
   "language": "python",
   "name": "python3"
  },
  "language_info": {
   "codemirror_mode": {
    "name": "ipython",
    "version": 3
   },
   "file_extension": ".py",
   "mimetype": "text/x-python",
   "name": "python",
   "nbconvert_exporter": "python",
   "pygments_lexer": "ipython3",
   "version": "3.9.7"
  },
  "toc": {
   "base_numbering": 1,
   "nav_menu": {},
   "number_sections": true,
   "sideBar": true,
   "skip_h1_title": false,
   "title_cell": "Table of Contents",
   "title_sidebar": "Contents",
   "toc_cell": false,
   "toc_position": {},
   "toc_section_display": true,
   "toc_window_display": false
  }
 },
 "nbformat": 4,
 "nbformat_minor": 2
}
